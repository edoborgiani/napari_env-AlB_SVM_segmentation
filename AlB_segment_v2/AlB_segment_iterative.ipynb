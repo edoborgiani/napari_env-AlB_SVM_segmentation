{
 "cells": [
  {
   "cell_type": "markdown",
   "id": "7a38257f-46bb-400f-96a7-9e4bda768d61",
   "metadata": {},
   "source": [
    "## PACK INSTALLATION (Restart kernel after run)"
   ]
  },
  {
   "cell_type": "code",
   "execution_count": null,
   "id": "54ea9be9-7e17-4004-a41c-9133945aaf64",
   "metadata": {},
   "outputs": [],
   "source": [
    "pip install scikit-learn"
   ]
  },
  {
   "cell_type": "code",
   "execution_count": null,
   "id": "6087dd87-8742-4e60-8f02-dea806bcdb4a",
   "metadata": {},
   "outputs": [],
   "source": [
    "pip install xlsxwriter"
   ]
  },
  {
   "cell_type": "markdown",
   "id": "3b970855-4941-4124-9a76-872a8c42ca87",
   "metadata": {},
   "source": [
    "## IMPORT"
   ]
  },
  {
   "cell_type": "code",
   "execution_count": null,
   "id": "e2e1262a-3ccc-4c94-8f6e-8a5784ced14d",
   "metadata": {},
   "outputs": [],
   "source": [
    "import cv2\n",
    "cv2.__version__"
   ]
  },
  {
   "cell_type": "code",
   "execution_count": null,
   "id": "61116848-a1b8-4dea-a7da-25a040cc7e3a",
   "metadata": {},
   "outputs": [],
   "source": [
    "from PIL import Image\n",
    "\n",
    "import napari\n",
    "import scipy\n",
    "import csv\n",
    "import imghdr\n",
    "import colorsys\n",
    "import os\n",
    "import xlsxwriter\n",
    "\n",
    "import numpy as np\n",
    "\n",
    "import cv2 as cv\n",
    "import matplotlib.pyplot as plt\n",
    "\n",
    "import pyvista as pv\n",
    "\n",
    "from csbdeep.utils import normalize\n",
    "from scipy import ndimage as ndi\n",
    "\n",
    "from skimage import filters\n",
    "from skimage.draw import disk\n",
    "from skimage.segmentation import watershed\n",
    "from scipy.ndimage import distance_transform_edt\n",
    "from skimage.measure import label, regionprops\n",
    "from skimage.filters import threshold_local\n",
    "from scipy.ndimage import center_of_mass\n",
    "\n",
    "# from skimage.feature import peak_local_max\n",
    "from vispy.color import Colormap\n",
    "from IPython.display import display_html\n",
    "from IPython.display import clear_output\n",
    "\n",
    "from stardist.models import StarDist2D, Config3D, StarDist3D\n",
    "from stardist.data import test_image_nuclei_2d\n",
    "from stardist.plot import render_label\n",
    "\n",
    "import sklearn\n",
    "from sklearn.svm import SVC\n",
    "from sklearn.neighbors import KNeighborsClassifier\n",
    "from sklearn.preprocessing import StandardScaler\n",
    "from sklearn.neighbors import KernelDensity\n",
    "\n",
    "from sklearn.svm import OneClassSVM\n",
    "\n",
    "from skimage.morphology import remove_small_holes, remove_small_objects\n",
    "from skimage.morphology import closing, square\n",
    "\n",
    "from napari.settings import get_settings\n",
    "settings = get_settings()\n",
    "\n",
    "from aicsimageio import AICSImage\n",
    "from tifffile import imwrite"
   ]
  },
  {
   "cell_type": "markdown",
   "id": "df9de469-3afa-4dde-a459-45a9fb67a321",
   "metadata": {},
   "source": [
    "## File upload\n",
    "Takes all the images inside \"Input_images\""
   ]
  },
  {
   "cell_type": "code",
   "execution_count": null,
   "id": "c41837bd-55ba-4b37-affd-bc756542813c",
   "metadata": {},
   "outputs": [],
   "source": [
    "training_file='10Xcow1_IL1_4_zoom.tif'\n",
    "use_csv=True\n",
    "\n",
    "files = os.listdir('Input_images')\n",
    "\n",
    "for num, tiff_file in enumerate(files):\n",
    "    if tiff_file.endswith(\".tif\") or tiff_file.endswith(\".tiff\"):\n",
    "        print(tiff_file)\n",
    "        %run ./Notebook_calls/AlB_segment_call.ipynb"
   ]
  },
  {
   "cell_type": "code",
   "execution_count": null,
   "id": "e3653ab4-accf-483c-9764-11f5da8406a5",
   "metadata": {},
   "outputs": [],
   "source": []
  }
 ],
 "metadata": {
  "kernelspec": {
   "display_name": "Python 3 (ipykernel)",
   "language": "python",
   "name": "python3"
  },
  "language_info": {
   "codemirror_mode": {
    "name": "ipython",
    "version": 3
   },
   "file_extension": ".py",
   "mimetype": "text/x-python",
   "name": "python",
   "nbconvert_exporter": "python",
   "pygments_lexer": "ipython3",
   "version": "3.10.12"
  }
 },
 "nbformat": 4,
 "nbformat_minor": 5
}
